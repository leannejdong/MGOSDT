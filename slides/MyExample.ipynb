{
 "cells": [
  {
   "cell_type": "code",
   "execution_count": 1,
   "id": "meaning-construction",
   "metadata": {
    "scrolled": true
   },
   "outputs": [
    {
     "name": "stdout",
     "output_type": "stream",
     "text": [
      "/home/leanne/Dev/mgosdt\n"
     ]
    }
   ],
   "source": [
    "%pwd\n",
    "%cd .."
   ]
  },
  {
   "cell_type": "code",
   "execution_count": 16,
   "id": "institutional-saying",
   "metadata": {},
   "outputs": [
    {
     "name": "stdout",
     "output_type": "stream",
     "text": [
      "Result:  [\n",
      "  {\n",
      "    \"children\": [\n",
      "      {\n",
      "        \"in\": \"Overcast\",\n",
      "        \"then\": {\n",
      "          \"complexity\": 0.009999999776482582,\n",
      "          \"loss\": 0.0,\n",
      "          \"name\": \"play\",\n",
      "          \"prediction\": \"Yes\"\n",
      "        }\n",
      "      },\n",
      "      {\n",
      "        \"in\": \"Rain\",\n",
      "        \"then\": {\n",
      "          \"children\": [\n",
      "            {\n",
      "              \"in\": \"Weak\",\n",
      "              \"then\": {\n",
      "                \"complexity\": 0.009999999776482582,\n",
      "                \"loss\": 0.0,\n",
      "                \"name\": \"play\",\n",
      "                \"prediction\": \"Yes\"\n",
      "              }\n",
      "            },\n",
      "            {\n",
      "              \"in\": \"default\",\n",
      "              \"then\": {\n",
      "                \"complexity\": 0.009999999776482582,\n",
      "                \"loss\": 0.0,\n",
      "                \"name\": \"play\",\n",
      "                \"prediction\": \"No\"\n",
      "              }\n",
      "            }\n",
      "          ],\n",
      "          \"feature\": 3,\n",
      "          \"name\": \"wind\",\n",
      "          \"type\": \"categorical\"\n",
      "        }\n",
      "      },\n",
      "      {\n",
      "        \"in\": \"default\",\n",
      "        \"then\": {\n",
      "          \"children\": [\n",
      "            {\n",
      "              \"in\": \"Normal\",\n",
      "              \"then\": {\n",
      "                \"complexity\": 0.009999999776482582,\n",
      "                \"loss\": 0.0,\n",
      "                \"name\": \"play\",\n",
      "                \"prediction\": \"Yes\"\n",
      "              }\n",
      "            },\n",
      "            {\n",
      "              \"in\": \"default\",\n",
      "              \"then\": {\n",
      "                \"complexity\": 0.009999999776482582,\n",
      "                \"loss\": 0.0,\n",
      "                \"name\": \"play\",\n",
      "                \"prediction\": \"No\"\n",
      "              }\n",
      "            }\n",
      "          ],\n",
      "          \"feature\": 2,\n",
      "          \"name\": \"humidity\",\n",
      "          \"type\": \"categorical\"\n",
      "        }\n",
      "      }\n",
      "    ],\n",
      "    \"feature\": 0,\n",
      "    \"name\": \"outlook\",\n",
      "    \"type\": \"categorical\"\n",
      "  }\n",
      "]\n",
      "Time (seconds):  0.003000000026077032\n",
      "Iterations:  349\n",
      "Graph Size:  131\n"
     ]
    }
   ],
   "source": [
    "import gosdt\n",
    "#from model.gosdt import GOSDT\n",
    "\n",
    "with open (\"/home/leanne/Dev/mgosdt/experiments/datasets/tennis/tennis.csv\", \"r\") as data_file:\n",
    "    data = data_file.read()\n",
    "\n",
    "with open (\"/home/leanne/Dev/mgosdt/experiments/configurations/debug.json\", \"r\") as config_file:\n",
    "    config = config_file.read()\n",
    "\n",
    "import gosdt\n",
    "gosdt.configure(config)\n",
    "result = gosdt.fit(data)\n",
    "\n",
    "print(\"Result: \", result)\n",
    "print(\"Time (seconds): \", gosdt.time())\n",
    "print(\"Iterations: \", gosdt.iterations())\n",
    "print(\"Graph Size: \", gosdt.size())"
   ]
  },
  {
   "cell_type": "code",
   "execution_count": 15,
   "id": "eleven-flower",
   "metadata": {},
   "outputs": [
    {
     "name": "stdout",
     "output_type": "stream",
     "text": [
      "Execution Time: 20.427000045776367\n"
     ]
    }
   ],
   "source": [
    "%pwd\n",
    "import pandas as pd\n",
    "import numpy as np\n",
    "from model.gosdt import GOSDT\n",
    "\n",
    "#dataframe = pd.DataFrame(pd.read_csv(\"/home/leanne/Dev/mgosdt/experiments/datasets/tennis/tennis.csv\"))\n",
    "dataframe = pd.DataFrame(pd.read_csv(\"/home/leanne/Dev/mgosdt/experiments/datasets/iris/data.csv\"))\n",
    "X = dataframe[dataframe.columns[:-1]]\n",
    "y = dataframe[dataframe.columns[-1:]]\n",
    "\n",
    "hyperparameters = {\n",
    "    \"regularization\": 0.033,\n",
    "    \"time_limit\": 3600,\n",
    "    \"verbose\": True,\n",
    "}\n",
    "model = GOSDT(hyperparameters)\n",
    "model.fit(X, y)\n",
    "print(\"Execution Time: {}\".format(model.time))\n"
   ]
  },
  {
   "cell_type": "code",
   "execution_count": 14,
   "id": "furnished-aerospace",
   "metadata": {},
   "outputs": [],
   "source": [
    "# This doesn't work yet\n",
    "prediction = model.predict(X)\n",
    "training_accuracy = model.score(X, y)\n",
    "print(\"Training Accuracy: {}\".format(training_accuracy))\n",
    "print(\"Size: {}\".format(model.leaves()))\n",
    "print(\"Loss: {}\".format(1 - training_accuracy))\n",
    "print(\"Risk: {}\".format(\n",
    "    model.leaves() * hyperparameters[\"regularization\"]\n",
    "    + 1 - training_accuracy))\n",
    "model.tree.__initialize_training_loss__(X, y)\n",
    "print(model.tree)\n",
    "print(model.latex())"
   ]
  }
 ],
 "metadata": {
  "kernelspec": {
   "display_name": "Python 3",
   "language": "python",
   "name": "python3"
  },
  "language_info": {
   "codemirror_mode": {
    "name": "ipython",
    "version": 3
   },
   "file_extension": ".py",
   "mimetype": "text/x-python",
   "name": "python",
   "nbconvert_exporter": "python",
   "pygments_lexer": "ipython3",
   "version": "3.9.2"
  }
 },
 "nbformat": 4,
 "nbformat_minor": 5
}
