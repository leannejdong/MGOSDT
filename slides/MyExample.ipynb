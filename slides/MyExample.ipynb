{
 "cells": [
  {
   "cell_type": "code",
   "execution_count": 5,
   "metadata": {
    "scrolled": true
   },
   "outputs": [
    {
     "name": "stdout",
     "output_type": "stream",
     "text": [
      "/home/leanne/Dev/mgosdt\n"
     ]
    }
   ],
   "source": [
    "%pwd\n",
    "%cd .."
   ]
  },
  {
   "cell_type": "code",
   "execution_count": 8,
   "metadata": {},
   "outputs": [
    {
     "name": "stdout",
     "output_type": "stream",
     "text": [
      "/home/leanne/Dev/mgosdt/python\n"
     ]
    },
    {
     "ename": "ModuleNotFoundError",
     "evalue": "No module named 'gosdt'",
     "output_type": "error",
     "traceback": [
      "\u001b[0;31m---------------------------------------------------------------------------\u001b[0m",
      "\u001b[0;31mModuleNotFoundError\u001b[0m                       Traceback (most recent call last)",
      "\u001b[0;32m<ipython-input-8-b10f938a7e16>\u001b[0m in \u001b[0;36m<module>\u001b[0;34m\u001b[0m\n\u001b[1;32m      1\u001b[0m \u001b[0mget_ipython\u001b[0m\u001b[0;34m(\u001b[0m\u001b[0;34m)\u001b[0m\u001b[0;34m.\u001b[0m\u001b[0mrun_line_magic\u001b[0m\u001b[0;34m(\u001b[0m\u001b[0;34m'cd'\u001b[0m\u001b[0;34m,\u001b[0m \u001b[0;34m'python'\u001b[0m\u001b[0;34m)\u001b[0m\u001b[0;34m\u001b[0m\u001b[0;34m\u001b[0m\u001b[0m\n\u001b[0;32m----> 2\u001b[0;31m \u001b[0;32mfrom\u001b[0m \u001b[0mmodel\u001b[0m\u001b[0;34m.\u001b[0m\u001b[0mgosdt\u001b[0m \u001b[0;32mimport\u001b[0m \u001b[0mGOSDT\u001b[0m\u001b[0;34m\u001b[0m\u001b[0;34m\u001b[0m\u001b[0m\n\u001b[0m",
      "\u001b[0;32m~/Dev/mgosdt/python/model/gosdt.py\u001b[0m in \u001b[0;36m<module>\u001b[0;34m\u001b[0m\n\u001b[1;32m      5\u001b[0m \u001b[0;32mfrom\u001b[0m \u001b[0msklearn\u001b[0m\u001b[0;34m.\u001b[0m\u001b[0mmetrics\u001b[0m \u001b[0;32mimport\u001b[0m \u001b[0mconfusion_matrix\u001b[0m\u001b[0;34m,\u001b[0m \u001b[0maccuracy_score\u001b[0m\u001b[0;34m\u001b[0m\u001b[0;34m\u001b[0m\u001b[0m\n\u001b[1;32m      6\u001b[0m \u001b[0;34m\u001b[0m\u001b[0m\n\u001b[0;32m----> 7\u001b[0;31m \u001b[0;32mimport\u001b[0m \u001b[0mgosdt\u001b[0m \u001b[0;31m# Import the GOSDT extension\u001b[0m\u001b[0;34m\u001b[0m\u001b[0;34m\u001b[0m\u001b[0m\n\u001b[0m\u001b[1;32m      8\u001b[0m \u001b[0;32mfrom\u001b[0m \u001b[0mmodel\u001b[0m\u001b[0;34m.\u001b[0m\u001b[0mencoder\u001b[0m \u001b[0;32mimport\u001b[0m \u001b[0mEncoder\u001b[0m\u001b[0;34m\u001b[0m\u001b[0;34m\u001b[0m\u001b[0m\n\u001b[1;32m      9\u001b[0m \u001b[0;32mfrom\u001b[0m \u001b[0;34m.\u001b[0m\u001b[0mimbalance\u001b[0m\u001b[0;34m.\u001b[0m\u001b[0mosdt_imb_v9\u001b[0m \u001b[0;32mimport\u001b[0m \u001b[0mbbound\u001b[0m\u001b[0;34m,\u001b[0m \u001b[0mpredict\u001b[0m \u001b[0;31m# Import the special objective implementation\u001b[0m\u001b[0;34m\u001b[0m\u001b[0;34m\u001b[0m\u001b[0m\n",
      "\u001b[0;31mModuleNotFoundError\u001b[0m: No module named 'gosdt'"
     ]
    }
   ],
   "source": [
    "%cd python\n",
    "from model.gosdt import GOSDT"
   ]
  },
  {
   "cell_type": "code",
   "execution_count": 9,
   "metadata": {},
   "outputs": [],
   "source": [
    "with open (\"/home/leanne/Dev/mgosdt/m2.csv\", \"r\") as data_file:\n",
    "    data = data_file.read()"
   ]
  },
  {
   "cell_type": "code",
   "execution_count": 10,
   "metadata": {},
   "outputs": [],
   "source": [
    "with open (\"/home/leanne/Dev/mgosdt/experiments/configurations/debug.json\", \"r\") as config_file:\n",
    "    config = config_file.read()"
   ]
  },
  {
   "cell_type": "code",
   "execution_count": 11,
   "metadata": {},
   "outputs": [],
   "source": [
    "gosdt.configure(config)\n",
    "result = gosdt.fit(data)"
   ]
  },
  {
   "cell_type": "code",
   "execution_count": 6,
   "metadata": {},
   "outputs": [
    {
     "name": "stdout",
     "output_type": "stream",
     "text": [
      "Result:  [\n",
      "  {\n",
      "    \"children\": [\n",
      "      {\n",
      "        \"in\": [\n",
      "          1,\n",
      "          null\n",
      "        ],\n",
      "        \"then\": {\n",
      "          \"children\": [\n",
      "            {\n",
      "              \"in\": [\n",
      "                2,\n",
      "                null\n",
      "              ],\n",
      "              \"then\": {\n",
      "                \"children\": [\n",
      "                  {\n",
      "                    \"in\": [\n",
      "                      2,\n",
      "                      null\n",
      "                    ],\n",
      "                    \"then\": {\n",
      "                      \"complexity\": 0.009999999776482582,\n",
      "                      \"loss\": 0.029900331050157547,\n",
      "                      \"name\": \"class\",\n",
      "                      \"prediction\": 0\n",
      "                    }\n",
      "                  },\n",
      "                  {\n",
      "                    \"in\": [\n",
      "                      null,\n",
      "                      2\n",
      "                    ],\n",
      "                    \"then\": {\n",
      "                      \"children\": [\n",
      "                        {\n",
      "                          \"in\": [\n",
      "                            2,\n",
      "                            null\n",
      "                          ],\n",
      "                          \"then\": {\n",
      "                            \"children\": [\n",
      "                              {\n",
      "                                \"in\": [\n",
      "                                  2,\n",
      "                                  null\n",
      "                                ],\n",
      "                                \"then\": {\n",
      "                                  \"children\": [\n",
      "                                    {\n",
      "                                      \"in\": [\n",
      "                                        2,\n",
      "                                        null\n",
      "                                      ],\n",
      "                                      \"then\": {\n",
      "                                        \"complexity\": 0.009999999776482582,\n",
      "                                        \"loss\": 0.0,\n",
      "                                        \"name\": \"class\",\n",
      "                                        \"prediction\": 0\n",
      "                                      }\n",
      "                                    },\n",
      "                                    {\n",
      "                                      \"in\": [\n",
      "                                        null,\n",
      "                                        2\n",
      "                                      ],\n",
      "                                      \"then\": {\n",
      "                                        \"complexity\": 0.009999999776482582,\n",
      "                                        \"loss\": 0.0,\n",
      "                                        \"name\": \"class\",\n",
      "                                        \"prediction\": 1\n",
      "                                      }\n",
      "                                    }\n",
      "                                  ],\n",
      "                                  \"feature\": 5,\n",
      "                                  \"name\": \"a6\",\n",
      "                                  \"type\": \"integral\"\n",
      "                                }\n",
      "                              },\n",
      "                              {\n",
      "                                \"in\": [\n",
      "                                  null,\n",
      "                                  2\n",
      "                                ],\n",
      "                                \"then\": {\n",
      "                                  \"complexity\": 0.009999999776482582,\n",
      "                                  \"loss\": 0.0,\n",
      "                                  \"name\": \"class\",\n",
      "                                  \"prediction\": 1\n",
      "                                }\n",
      "                              }\n",
      "                            ],\n",
      "                            \"feature\": 1,\n",
      "                            \"name\": \"a2\",\n",
      "                            \"type\": \"integral\"\n",
      "                          }\n",
      "                        },\n",
      "                        {\n",
      "                          \"in\": [\n",
      "                            null,\n",
      "                            2\n",
      "                          ],\n",
      "                          \"then\": {\n",
      "                            \"complexity\": 0.009999999776482582,\n",
      "                            \"loss\": 0.0,\n",
      "                            \"name\": \"class\",\n",
      "                            \"prediction\": 1\n",
      "                          }\n",
      "                        }\n",
      "                      ],\n",
      "                      \"feature\": 4,\n",
      "                      \"name\": \"a5\",\n",
      "                      \"type\": \"integral\"\n",
      "                    }\n",
      "                  }\n",
      "                ],\n",
      "                \"feature\": 3,\n",
      "                \"name\": \"a4\",\n",
      "                \"type\": \"integral\"\n",
      "              }\n",
      "            },\n",
      "            {\n",
      "              \"in\": [\n",
      "                null,\n",
      "                2\n",
      "              ],\n",
      "              \"then\": {\n",
      "                \"complexity\": 0.009999999776482582,\n",
      "                \"loss\": 0.02500000037252903,\n",
      "                \"name\": \"class\",\n",
      "                \"prediction\": 1\n",
      "              }\n",
      "            }\n",
      "          ],\n",
      "          \"feature\": 2,\n",
      "          \"name\": \"a3\",\n",
      "          \"type\": \"integral\"\n",
      "        }\n",
      "      },\n",
      "      {\n",
      "        \"in\": [\n",
      "          null,\n",
      "          1\n",
      "        ],\n",
      "        \"then\": {\n",
      "          \"children\": [\n",
      "            {\n",
      "              \"in\": [\n",
      "                2,\n",
      "                null\n",
      "              ],\n",
      "              \"then\": {\n",
      "                \"children\": [\n",
      "                  {\n",
      "                    \"in\": [\n",
      "                      2,\n",
      "                      null\n",
      "                    ],\n",
      "                    \"then\": {\n",
      "                      \"children\": [\n",
      "                        {\n",
      "                          \"in\": [\n",
      "                            2,\n",
      "                            null\n",
      "                          ],\n",
      "                          \"then\": {\n",
      "                            \"complexity\": 0.009999999776482582,\n",
      "                            \"loss\": 0.06833333522081375,\n",
      "                            \"name\": \"class\",\n",
      "                            \"prediction\": 1\n",
      "                          }\n",
      "                        },\n",
      "                        {\n",
      "                          \"in\": [\n",
      "                            null,\n",
      "                            2\n",
      "                          ],\n",
      "                          \"then\": {\n",
      "                            \"children\": [\n",
      "                              {\n",
      "                                \"in\": [\n",
      "                                  2,\n",
      "                                  null\n",
      "                                ],\n",
      "                                \"then\": {\n",
      "                                  \"children\": [\n",
      "                                    {\n",
      "                                      \"in\": [\n",
      "                                        2,\n",
      "                                        null\n",
      "                                      ],\n",
      "                                      \"then\": {\n",
      "                                        \"complexity\": 0.009999999776482582,\n",
      "                                        \"loss\": 0.0,\n",
      "                                        \"name\": \"class\",\n",
      "                                        \"prediction\": 1\n",
      "                                      }\n",
      "                                    },\n",
      "                                    {\n",
      "                                      \"in\": [\n",
      "                                        null,\n",
      "                                        2\n",
      "                                      ],\n",
      "                                      \"then\": {\n",
      "                                        \"complexity\": 0.009999999776482582,\n",
      "                                        \"loss\": 0.0,\n",
      "                                        \"name\": \"class\",\n",
      "                                        \"prediction\": 0\n",
      "                                      }\n",
      "                                    }\n",
      "                                  ],\n",
      "                                  \"feature\": 4,\n",
      "                                  \"name\": \"a5\",\n",
      "                                  \"type\": \"integral\"\n",
      "                                }\n",
      "                              },\n",
      "                              {\n",
      "                                \"in\": [\n",
      "                                  null,\n",
      "                                  2\n",
      "                                ],\n",
      "                                \"then\": {\n",
      "                                  \"complexity\": 0.009999999776482582,\n",
      "                                  \"loss\": 0.011627906933426857,\n",
      "                                  \"name\": \"class\",\n",
      "                                  \"prediction\": 0\n",
      "                                }\n",
      "                              }\n",
      "                            ],\n",
      "                            \"feature\": 2,\n",
      "                            \"name\": \"a3\",\n",
      "                            \"type\": \"integral\"\n",
      "                          }\n",
      "                        }\n",
      "                      ],\n",
      "                      \"feature\": 3,\n",
      "                      \"name\": \"a4\",\n",
      "                      \"type\": \"integral\"\n",
      "                    }\n",
      "                  },\n",
      "                  {\n",
      "                    \"in\": [\n",
      "                      null,\n",
      "                      2\n",
      "                    ],\n",
      "                    \"then\": {\n",
      "                      \"complexity\": 0.009999999776482582,\n",
      "                      \"loss\": 0.04152823984622955,\n",
      "                      \"name\": \"class\",\n",
      "                      \"prediction\": 0\n",
      "                    }\n",
      "                  }\n",
      "                ],\n",
      "                \"feature\": 5,\n",
      "                \"name\": \"a6\",\n",
      "                \"type\": \"integral\"\n",
      "              }\n",
      "            },\n",
      "            {\n",
      "              \"in\": [\n",
      "                null,\n",
      "                2\n",
      "              ],\n",
      "              \"then\": {\n",
      "                \"complexity\": 0.009999999776482582,\n",
      "                \"loss\": 0.09634551405906677,\n",
      "                \"name\": \"class\",\n",
      "                \"prediction\": 0\n",
      "              }\n",
      "            }\n",
      "          ],\n",
      "          \"feature\": 1,\n",
      "          \"name\": \"a2\",\n",
      "          \"type\": \"integral\"\n",
      "        }\n",
      "      }\n",
      "    ],\n",
      "    \"feature\": 0,\n",
      "    \"name\": \"a1\",\n",
      "    \"type\": \"integral\"\n",
      "  }\n",
      "]\n",
      "Time (seconds):  0.5120000243186951\n",
      "Iterations:  33717\n",
      "Graph Size:  7645\n"
     ]
    }
   ],
   "source": [
    "print(\"Result: \", result)\n",
    "print(\"Time (seconds): \", gosdt.time())\n",
    "print(\"Iterations: \", gosdt.iterations())\n",
    "print(\"Graph Size: \", gosdt.size())"
   ]
  },
  {
   "cell_type": "code",
   "execution_count": 7,
   "metadata": {},
   "outputs": [
    {
     "ename": "ModuleNotFoundError",
     "evalue": "No module named 'model'",
     "output_type": "error",
     "traceback": [
      "\u001b[0;31m---------------------------------------------------------------------------\u001b[0m",
      "\u001b[0;31mModuleNotFoundError\u001b[0m                       Traceback (most recent call last)",
      "\u001b[0;32m<ipython-input-7-828b9dda4ea3>\u001b[0m in \u001b[0;36m<module>\u001b[0;34m\u001b[0m\n\u001b[1;32m      1\u001b[0m \u001b[0;32mimport\u001b[0m \u001b[0mpandas\u001b[0m \u001b[0;32mas\u001b[0m \u001b[0mpd\u001b[0m\u001b[0;34m\u001b[0m\u001b[0;34m\u001b[0m\u001b[0m\n\u001b[1;32m      2\u001b[0m \u001b[0;32mimport\u001b[0m \u001b[0mnumpy\u001b[0m \u001b[0;32mas\u001b[0m \u001b[0mnp\u001b[0m\u001b[0;34m\u001b[0m\u001b[0;34m\u001b[0m\u001b[0m\n\u001b[0;32m----> 3\u001b[0;31m \u001b[0;32mfrom\u001b[0m \u001b[0mmodel\u001b[0m\u001b[0;34m.\u001b[0m\u001b[0mgosdt\u001b[0m \u001b[0;32mimport\u001b[0m \u001b[0mGOSDT\u001b[0m\u001b[0;34m\u001b[0m\u001b[0;34m\u001b[0m\u001b[0m\n\u001b[0m\u001b[1;32m      4\u001b[0m \u001b[0;34m\u001b[0m\u001b[0m\n\u001b[1;32m      5\u001b[0m \u001b[0mdataframe\u001b[0m \u001b[0;34m=\u001b[0m \u001b[0mpd\u001b[0m\u001b[0;34m.\u001b[0m\u001b[0mDataFrame\u001b[0m\u001b[0;34m(\u001b[0m\u001b[0mpd\u001b[0m\u001b[0;34m.\u001b[0m\u001b[0mread_csv\u001b[0m\u001b[0;34m(\u001b[0m\u001b[0;34m\"experiments/datasets/monk_2/data.csv\"\u001b[0m\u001b[0;34m)\u001b[0m\u001b[0;34m)\u001b[0m\u001b[0;34m\u001b[0m\u001b[0;34m\u001b[0m\u001b[0m\n",
      "\u001b[0;31mModuleNotFoundError\u001b[0m: No module named 'model'"
     ]
    }
   ],
   "source": [
    "import pandas as pd\n",
    "import numpy as np\n",
    "from model.gosdt import GOSDT\n",
    "\n",
    "dataframe = pd.DataFrame(pd.read_csv(\"experiments/datasets/monk_2/data.csv\"))\n",
    "\n",
    "X = dataframe[dataframe.columns[:-1]]\n",
    "y = dataframe[dataframe.columns[-1:]]\n",
    "\n",
    "hyperparameters = {\n",
    "    \"regularization\": 0.1,\n",
    "    \"time_limit\": 3600,\n",
    "    \"verbose\": True,\n",
    "}"
   ]
  },
  {
   "cell_type": "code",
   "execution_count": 12,
   "metadata": {},
   "outputs": [
    {
     "data": {
      "text/plain": [
       "'/home/leanne/Dev/mgosdt/slides'"
      ]
     },
     "execution_count": 12,
     "metadata": {},
     "output_type": "execute_result"
    }
   ],
   "source": [
    "%pwd"
   ]
  },
  {
   "cell_type": "code",
   "execution_count": 13,
   "metadata": {},
   "outputs": [
    {
     "name": "stdout",
     "output_type": "stream",
     "text": [
      "/home/leanne/Dev/mgosdt\n"
     ]
    }
   ],
   "source": [
    "%cd .."
   ]
  },
  {
   "cell_type": "code",
   "execution_count": 14,
   "metadata": {},
   "outputs": [
    {
     "data": {
      "text/plain": [
       "'/home/leanne/Dev/mgosdt'"
      ]
     },
     "execution_count": 14,
     "metadata": {},
     "output_type": "execute_result"
    }
   ],
   "source": [
    "%pwd"
   ]
  },
  {
   "cell_type": "code",
   "execution_count": 15,
   "metadata": {},
   "outputs": [
    {
     "name": "stdout",
     "output_type": "stream",
     "text": [
      "/home/leanne/Dev/mgosdt/python\n"
     ]
    }
   ],
   "source": [
    "%cd python"
   ]
  },
  {
   "cell_type": "code",
   "execution_count": 8,
   "metadata": {},
   "outputs": [
    {
     "ename": "ModuleNotFoundError",
     "evalue": "No module named 'gosdt'",
     "output_type": "error",
     "traceback": [
      "\u001b[0;31m---------------------------------------------------------------------------\u001b[0m",
      "\u001b[0;31mModuleNotFoundError\u001b[0m                       Traceback (most recent call last)",
      "\u001b[0;32m<ipython-input-8-cbd310e78cf2>\u001b[0m in \u001b[0;36m<module>\u001b[0;34m\u001b[0m\n\u001b[0;32m----> 1\u001b[0;31m \u001b[0;32mfrom\u001b[0m \u001b[0mmodel\u001b[0m\u001b[0;34m.\u001b[0m\u001b[0mgosdt\u001b[0m \u001b[0;32mimport\u001b[0m \u001b[0mGOSDT\u001b[0m\u001b[0;34m\u001b[0m\u001b[0;34m\u001b[0m\u001b[0m\n\u001b[0m",
      "\u001b[0;32m~/Dev/mgosdt/python/model/gosdt.py\u001b[0m in \u001b[0;36m<module>\u001b[0;34m\u001b[0m\n\u001b[1;32m      5\u001b[0m \u001b[0;32mfrom\u001b[0m \u001b[0msklearn\u001b[0m\u001b[0;34m.\u001b[0m\u001b[0mmetrics\u001b[0m \u001b[0;32mimport\u001b[0m \u001b[0mconfusion_matrix\u001b[0m\u001b[0;34m,\u001b[0m \u001b[0maccuracy_score\u001b[0m\u001b[0;34m\u001b[0m\u001b[0;34m\u001b[0m\u001b[0m\n\u001b[1;32m      6\u001b[0m \u001b[0;34m\u001b[0m\u001b[0m\n\u001b[0;32m----> 7\u001b[0;31m \u001b[0;32mimport\u001b[0m \u001b[0mgosdt\u001b[0m \u001b[0;31m# Import the GOSDT extension\u001b[0m\u001b[0;34m\u001b[0m\u001b[0;34m\u001b[0m\u001b[0m\n\u001b[0m\u001b[1;32m      8\u001b[0m \u001b[0;32mfrom\u001b[0m \u001b[0mmodel\u001b[0m\u001b[0;34m.\u001b[0m\u001b[0mencoder\u001b[0m \u001b[0;32mimport\u001b[0m \u001b[0mEncoder\u001b[0m\u001b[0;34m\u001b[0m\u001b[0;34m\u001b[0m\u001b[0m\n\u001b[1;32m      9\u001b[0m \u001b[0;32mfrom\u001b[0m \u001b[0;34m.\u001b[0m\u001b[0mimbalance\u001b[0m\u001b[0;34m.\u001b[0m\u001b[0mosdt_imb_v9\u001b[0m \u001b[0;32mimport\u001b[0m \u001b[0mbbound\u001b[0m\u001b[0;34m,\u001b[0m \u001b[0mpredict\u001b[0m \u001b[0;31m# Import the special objective implementation\u001b[0m\u001b[0;34m\u001b[0m\u001b[0;34m\u001b[0m\u001b[0m\n",
      "\u001b[0;31mModuleNotFoundError\u001b[0m: No module named 'gosdt'"
     ]
    }
   ],
   "source": [
    "from model.gosdt import GOSDT\n"
   ]
  },
  {
   "cell_type": "code",
   "execution_count": 2,
   "metadata": {},
   "outputs": [
    {
     "data": {
      "text/plain": [
       "'/home/leanne/Dev/mgosdt/slides'"
      ]
     },
     "execution_count": 2,
     "metadata": {},
     "output_type": "execute_result"
    }
   ],
   "source": [
    "%pwd"
   ]
  },
  {
   "cell_type": "code",
   "execution_count": 3,
   "metadata": {},
   "outputs": [
    {
     "name": "stdout",
     "output_type": "stream",
     "text": [
      "/home/leanne/Dev/mgosdt/python\n"
     ]
    }
   ],
   "source": [
    "%cd ../python"
   ]
  },
  {
   "cell_type": "code",
   "execution_count": 5,
   "metadata": {},
   "outputs": [
    {
     "name": "stdout",
     "output_type": "stream",
     "text": [
      "/home/leanne/Dev/mgosdt\n"
     ]
    }
   ],
   "source": [
    "%cd .."
   ]
  },
  {
   "cell_type": "code",
   "execution_count": 6,
   "metadata": {},
   "outputs": [
    {
     "ename": "ModuleNotFoundError",
     "evalue": "No module named 'gosdt'",
     "output_type": "error",
     "traceback": [
      "\u001b[0;31m---------------------------------------------------------------------------\u001b[0m",
      "\u001b[0;31mModuleNotFoundError\u001b[0m                       Traceback (most recent call last)",
      "\u001b[0;32m<ipython-input-6-2525b6fe47b6>\u001b[0m in \u001b[0;36m<module>\u001b[0;34m\u001b[0m\n\u001b[0;32m----> 1\u001b[0;31m \u001b[0;32mimport\u001b[0m \u001b[0mgosdt\u001b[0m\u001b[0;34m\u001b[0m\u001b[0;34m\u001b[0m\u001b[0m\n\u001b[0m",
      "\u001b[0;31mModuleNotFoundError\u001b[0m: No module named 'gosdt'"
     ]
    }
   ],
   "source": [
    "import gosdt"
   ]
  },
  {
   "cell_type": "code",
   "execution_count": null,
   "metadata": {},
   "outputs": [],
   "source": []
  }
 ],
 "metadata": {
  "kernelspec": {
   "display_name": "Python 3",
   "language": "python",
   "name": "python3"
  },
  "language_info": {
   "codemirror_mode": {
    "name": "ipython",
    "version": 3
   },
   "file_extension": ".py",
   "mimetype": "text/x-python",
   "name": "python",
   "nbconvert_exporter": "python",
   "pygments_lexer": "ipython3",
   "version": "3.8.5"
  }
 },
 "nbformat": 4,
 "nbformat_minor": 5
}
